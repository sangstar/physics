{
 "cells": [
  {
   "cell_type": "code",
   "execution_count": 1,
   "metadata": {},
   "outputs": [],
   "source": [
    "from numpy import sin, cos, arccos, arcsin\n",
    "import numpy as np\n",
    "import matplotlib.pyplot as plt\n",
    "import scipy.integrate as integrate\n",
    "import matplotlib.animation as animation\n",
    "import ffmpeg\n"
   ]
  },
  {
   "cell_type": "code",
   "execution_count": 2,
   "metadata": {},
   "outputs": [],
   "source": [
    "class SinglePendulum:\n",
    "    def __init__(self,\n",
    "                init_state = [120,0],\n",
    "                L = 2.0,\n",
    "                M1 = 1.0,\n",
    "                g = 9.81,\n",
    "                b = 0.5,\n",
    "                origin = (0,0)):\n",
    "        self.init_state = np.asarray(init_state,dtype='float')\n",
    "        self.params = (L,M1,g,b)\n",
    "        self.origin = origin\n",
    "        self.elapsed_time = 0 \n",
    "        #Convert degrees to radians\n",
    "        self.state = self.init_state * np.pi / 180.\n",
    "        \n",
    "        \n",
    "    def position(self):\n",
    "        (L, M1, g, b) = self.params\n",
    "        \n",
    "        x = np.cumsum([self.origin[0], L * sin(self.state[0])])\n",
    "        y = np.cumsum([self.origin[1], -L * cos(self.state[0])])\n",
    "        \n",
    "        return (x,y)\n",
    "    \n",
    "    def energy(self):\n",
    "        (L, M1, g,b) = self.params\n",
    "\n",
    "        x = L * sin(self.state[0])\n",
    "        y = -L * cos(self.state[0])\n",
    "        \n",
    "        vx = self.state[1] * y\n",
    "        vy = -1 * self.state[1] * x\n",
    "        \n",
    "        v = [vx,vy]\n",
    "        \n",
    "        U = M1 * g * y\n",
    "        K = 0.5 * M1 * np.dot(v,v)\n",
    "        return U + K\n",
    "    \n",
    "    def equation(self, state, t):\n",
    "        (L, M1, g, b) = self.params\n",
    "        theta = state[0]\n",
    "        omega = state[1]\n",
    "        dydt = [omega, -b*omega -g/L * sin(theta)]\n",
    "        return dydt\n",
    "    \n",
    "    def time_advance(self, dt):\n",
    "        self.state = integrate.odeint(self.equation,self.state,[0, dt])[1]\n",
    "        self.elapsed_time += dt\n"
   ]
  },
  {
   "cell_type": "code",
   "execution_count": 3,
   "metadata": {},
   "outputs": [],
   "source": [
    "pendulum = SinglePendulum([-120,0])\n",
    "dt = 1./30 # 30 fps\n",
    "global l\n",
    "l = pendulum.params[0]"
   ]
  },
  {
   "cell_type": "code",
   "execution_count": 4,
   "metadata": {},
   "outputs": [
    {
     "name": "stderr",
     "output_type": "stream",
     "text": [
      "MovieWriter ffmpeg unavailable; trying to use <class 'matplotlib.animation.PillowWriter'> instead.\n"
     ]
    },
    {
     "data": {
      "image/png": "[encoded data removed]",
      "text/plain": [
       "<Figure size 432x288 with 1 Axes>"
      ]
     },
     "metadata": {
      "needs_background": "light"
     },
     "output_type": "display_data"
    }
   ],
   "source": [
    "# The following code below was almost entirely cut and pasted from Jake VanderPlas's code \n",
    "# for his animation of a double pendulum of which this code owes heavily to. \n",
    "\n",
    "\n",
    "#------------------------------------------------------------\n",
    "# set up figure and animation\n",
    "fig = plt.figure()\n",
    "ax = fig.add_subplot(111, aspect='equal', autoscale_on=False,\n",
    "                     xlim=(-1.5*l, 1.5*l), ylim=(-1.5*l, 1.5*l))\n",
    "ax.grid()\n",
    "\n",
    "line, = ax.plot([], [], 'o-', lw=2)\n",
    "time_text = ax.text(0.02, 0.95, '', transform=ax.transAxes)\n",
    "energy_text = ax.text(0.02, 0.90, '', transform=ax.transAxes)\n",
    "\n",
    "def init():\n",
    "    \"\"\"initialize animation\"\"\"\n",
    "    line.set_data([], [])\n",
    "    time_text.set_text('')\n",
    "    energy_text.set_text('')\n",
    "    return line, time_text, energy_text\n",
    "\n",
    "def animate(i):\n",
    "    \"\"\"perform animation step\"\"\"\n",
    "    global pendulum, dt\n",
    "    pendulum.time_advance(dt)\n",
    "    \n",
    "    line.set_data(*pendulum.position())\n",
    "    time_text.set_text('time = %.1f' % pendulum.elapsed_time)\n",
    "    energy_text.set_text('energy = %.3f J' % pendulum.energy())\n",
    "    return line, time_text, energy_text\n",
    "\n",
    "# choose the interval based on dt and the time to animate one step\n",
    "from time import time\n",
    "t0 = time()\n",
    "animate(0)\n",
    "t1 = time()\n",
    "interval = 1000 * dt - (t1 - t0)\n",
    "\n",
    "ani = animation.FuncAnimation(fig, animate, frames=300,\n",
    "                              interval=interval, blit=True, init_func=init)\n",
    "\n",
    "# save the animation as an mp4.  This requires ffmpeg or mencoder to be\n",
    "# installed.  The extra_args ensure that the x264 codec is used, so that\n",
    "# the video can be embedded in html5.  You may need to adjust this for\n",
    "# your system: for more information, see\n",
    "# http://matplotlib.sourceforge.net/api/animation_api.html\n",
    "#ani.save('double_pendulum.mp4', fps=30, extra_args=['-vcodec', 'libx264'])\n",
    "\n",
    "ani.save('single_pendulum_new.gif', fps=30, extra_args=['-vcodec', 'libx264'])\n",
    "\n",
    "\n",
    "plt.show()"
   ]
  }
 ],
 "metadata": {
  "kernelspec": {
   "display_name": "Python 3",
   "language": "python",
   "name": "python3"
  },
  "language_info": {
   "codemirror_mode": {
    "name": "ipython",
    "version": 3
   },
   "file_extension": ".py",
   "mimetype": "text/x-python",
   "name": "python",
   "nbconvert_exporter": "python",
   "pygments_lexer": "ipython3",
   "version": "3.7.6"
  }
 },
 "nbformat": 4,
 "nbformat_minor": 4
}
