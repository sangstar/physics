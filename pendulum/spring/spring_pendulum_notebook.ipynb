{
 "cells": [
  {
   "cell_type": "code",
   "execution_count": 1,
   "metadata": {},
   "outputs": [],
   "source": [
    "from numpy import sin, cos, arccos, arcsin\n",
    "import numpy as np\n",
    "import matplotlib.pyplot as plt\n",
    "import scipy.integrate as integrate\n",
    "import matplotlib.animation as animation\n",
    "import ffmpeg\n",
    "from matplotlib.patches import Circle"
   ]
  },
  {
   "cell_type": "code",
   "execution_count": 2,
   "metadata": {},
   "outputs": [],
   "source": [
    "# Consider making the animation loading part a package you can just import"
   ]
  },
  {
   "cell_type": "code",
   "execution_count": 3,
   "metadata": {},
   "outputs": [],
   "source": [
    "# Relevant state parameters will be (theta, dtheta/dt, r, dr/dt)\n",
    "class SpringPendulum:\n",
    "    def __init__(self,\n",
    "                init_state = [120,0,1,0],\n",
    "                L = 1.0,\n",
    "                M = 1.0,\n",
    "                g = 9.81,\n",
    "                k = 20.0,\n",
    "                origin = (0,0)):\n",
    "        \n",
    "        self.init_state = np.asarray(init_state, dtype = 'float')\n",
    "        self.params = (L,M,g,k)\n",
    "        self.origin = origin\n",
    "        self.elapsed_time = 0\n",
    "        self.state = [self.init_state[0] * np.pi / 180., self.init_state[1] * np.pi / 180., \n",
    "                      self.init_state[2], self.init_state[3]] \n",
    "\n",
    "        \n",
    "    def position(self):\n",
    "        (L,M,g,k) = self.params\n",
    "        \n",
    "        x = np.cumsum([self.origin[0], self.state[2] * sin(self.state[0])])\n",
    "        y = np.cumsum([self.origin[1], -self.state[2] * cos(self.state[0])])\n",
    "        \n",
    "        return (x,y)\n",
    "    \n",
    "    def equation(self, state, t):\n",
    "        (L,M,g,k) = self.params\n",
    "        theta = state[0]\n",
    "        omega = state[1]\n",
    "        r = state[2]\n",
    "        drdt = state[3]\n",
    "        dydt = [omega, -1/r*(g * sin(theta) + 2*omega*drdt), drdt, -(k*(r-L))/ M - g*cos(theta) + r*omega**2]\n",
    "        return dydt\n",
    "    \n",
    "    def time_advance(self, dt):\n",
    "        self.state = integrate.odeint(self.equation,self.state,[0, dt])[1]\n",
    "        self.elapsed_time += dt\n",
    "        "
   ]
  },
  {
   "cell_type": "code",
   "execution_count": 4,
   "metadata": {},
   "outputs": [],
   "source": [
    "pendulum = SpringPendulum()\n",
    "dt = 1./30 # 30 fps\n",
    "global l\n",
    "l = pendulum.params[0]"
   ]
  },
  {
   "cell_type": "code",
   "execution_count": 5,
   "metadata": {},
   "outputs": [
    {
     "name": "stderr",
     "output_type": "stream",
     "text": [
      "MovieWriter ffmpeg unavailable; trying to use <class 'matplotlib.animation.PillowWriter'> instead.\n"
     ]
    },
    {
     "data": {
      "image/png": "[encoded data removed]",
      "text/plain": [
       "<Figure size 864x576 with 1 Axes>"
      ]
     },
     "metadata": {
      "needs_background": "light"
     },
     "output_type": "display_data"
    }
   ],
   "source": [
    "fig = plt.figure(figsize=(12,8))\n",
    "ax = fig.add_subplot(111, aspect='equal', autoscale_on=False,\n",
    "                     xlim=(-2*l, 2*l), ylim=(-2*l, 2*l))\n",
    "#ax.grid(False)\n",
    "#ax.set_xticks([])\n",
    "#ax.set_yticks([])\n",
    "ax.set_title('Spring pendulum')\n",
    "\n",
    "\n",
    "line, = ax.plot([],[], lw = 1)\n",
    "time_txt = ax.text(4,2.5,'')\n",
    "\n",
    "\n",
    "\n",
    "def init():\n",
    "    line.set_data([],[])\n",
    "    time_txt.set_text('')\n",
    "    return line, time_txt, \n",
    "\n",
    "def animate(i):\n",
    "    global pendulum, dt\n",
    "    ax.patches = [] # Redraw patch\n",
    "    pendulum.time_advance(dt) # Update new position of pendulum \n",
    "    line.set_data(*pendulum.position()) # Draw pendulum's position\n",
    "    pos=pendulum.position()\n",
    "    x=pos[0][-1]\n",
    "    y=pos[1][-1]\n",
    "    time_txt.set_text('Time : %.2f s' % pendulum.elapsed_time)\n",
    "    c1 = Circle((x,y), 0.1, fc='r', ec='r', zorder=10) \n",
    "    c2 = Circle((0,0), 0.025, zorder=10)\n",
    "    spring_rad = plt.Circle((0,0), l, color='black', fill=False,alpha = 0.2)\n",
    "    ax.add_patch(c1) # Draw pendulum ball\n",
    "    ax.add_patch(c2)\n",
    "    ax.add_patch(spring_rad)\n",
    "    return line, time_txt\n",
    "    \n",
    "\n",
    "# Find optimal interval for animation by basing it on how long the animate function takes to run\n",
    "from time import time\n",
    "t0 = time()\n",
    "animate(0)\n",
    "t1 = time()\n",
    "interval = 1000 * dt - (t1 - t0)\n",
    "    \n",
    "anim = animation.FuncAnimation(fig,animate,init_func = init, frames = 500, blit = True, interval = interval)\n",
    "\n",
    "anim.save('spring_pendulum_mine.gif', fps=30, extra_args=['-vcodec', 'libx264'])\n",
    "\n",
    "\n",
    "plt.show()"
   ]
  },
  {
   "cell_type": "code",
   "execution_count": null,
   "metadata": {},
   "outputs": [],
   "source": []
  },
  {
   "cell_type": "code",
   "execution_count": null,
   "metadata": {},
   "outputs": [],
   "source": []
  }
 ],
 "metadata": {
  "kernelspec": {
   "display_name": "Python 3",
   "language": "python",
   "name": "python3"
  },
  "language_info": {
   "codemirror_mode": {
    "name": "ipython",
    "version": 3
   },
   "file_extension": ".py",
   "mimetype": "text/x-python",
   "name": "python",
   "nbconvert_exporter": "python",
   "pygments_lexer": "ipython3",
   "version": "3.7.6"
  }
 },
 "nbformat": 4,
 "nbformat_minor": 4
}
